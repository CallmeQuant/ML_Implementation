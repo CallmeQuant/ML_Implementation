{
  "nbformat": 4,
  "nbformat_minor": 0,
  "metadata": {
    "colab": {
      "provenance": []
    },
    "kernelspec": {
      "name": "python3",
      "display_name": "Python 3"
    },
    "language_info": {
      "name": "python"
    }
  },
  "cells": [
    {
      "cell_type": "code",
      "source": [
        "pip install optuna"
      ],
      "metadata": {
        "colab": {
          "base_uri": "https://localhost:8080/"
        },
        "id": "6HAxqNLsWg7R",
        "outputId": "51415206-9288-4b5f-909d-a5dd5951f237"
      },
      "execution_count": 17,
      "outputs": [
        {
          "output_type": "stream",
          "name": "stdout",
          "text": [
            "Looking in indexes: https://pypi.org/simple, https://us-python.pkg.dev/colab-wheels/public/simple/\n",
            "Collecting optuna\n",
            "  Downloading optuna-3.1.0-py3-none-any.whl (365 kB)\n",
            "\u001b[2K     \u001b[90m━━━━━━━━━━━━━━━━━━━━━━━━━━━━━━━━━━━━━━\u001b[0m \u001b[32m365.3/365.3 KB\u001b[0m \u001b[31m26.5 MB/s\u001b[0m eta \u001b[36m0:00:00\u001b[0m\n",
            "\u001b[?25hCollecting cmaes>=0.9.1\n",
            "  Downloading cmaes-0.9.1-py3-none-any.whl (21 kB)\n",
            "Collecting alembic>=1.5.0\n",
            "  Downloading alembic-1.10.2-py3-none-any.whl (212 kB)\n",
            "\u001b[2K     \u001b[90m━━━━━━━━━━━━━━━━━━━━━━━━━━━━━━━━━━━━━━\u001b[0m \u001b[32m212.2/212.2 KB\u001b[0m \u001b[31m29.9 MB/s\u001b[0m eta \u001b[36m0:00:00\u001b[0m\n",
            "\u001b[?25hCollecting colorlog\n",
            "  Downloading colorlog-6.7.0-py2.py3-none-any.whl (11 kB)\n",
            "Requirement already satisfied: packaging>=20.0 in /usr/local/lib/python3.9/dist-packages (from optuna) (23.0)\n",
            "Requirement already satisfied: numpy in /usr/local/lib/python3.9/dist-packages (from optuna) (1.22.4)\n",
            "Requirement already satisfied: tqdm in /usr/local/lib/python3.9/dist-packages (from optuna) (4.65.0)\n",
            "Requirement already satisfied: PyYAML in /usr/local/lib/python3.9/dist-packages (from optuna) (6.0)\n",
            "Requirement already satisfied: sqlalchemy>=1.3.0 in /usr/local/lib/python3.9/dist-packages (from optuna) (1.4.46)\n",
            "Collecting Mako\n",
            "  Downloading Mako-1.2.4-py3-none-any.whl (78 kB)\n",
            "\u001b[2K     \u001b[90m━━━━━━━━━━━━━━━━━━━━━━━━━━━━━━━━━━━━━━━━\u001b[0m \u001b[32m78.7/78.7 KB\u001b[0m \u001b[31m9.3 MB/s\u001b[0m eta \u001b[36m0:00:00\u001b[0m\n",
            "\u001b[?25hRequirement already satisfied: typing-extensions>=4 in /usr/local/lib/python3.9/dist-packages (from alembic>=1.5.0->optuna) (4.5.0)\n",
            "Requirement already satisfied: greenlet!=0.4.17 in /usr/local/lib/python3.9/dist-packages (from sqlalchemy>=1.3.0->optuna) (2.0.2)\n",
            "Requirement already satisfied: MarkupSafe>=0.9.2 in /usr/local/lib/python3.9/dist-packages (from Mako->alembic>=1.5.0->optuna) (2.1.2)\n",
            "Installing collected packages: Mako, colorlog, cmaes, alembic, optuna\n",
            "Successfully installed Mako-1.2.4 alembic-1.10.2 cmaes-0.9.1 colorlog-6.7.0 optuna-3.1.0\n"
          ]
        }
      ]
    },
    {
      "cell_type": "code",
      "execution_count": 18,
      "metadata": {
        "id": "jPJB0gTeJtbk"
      },
      "outputs": [],
      "source": [
        "import numpy as np\n",
        "import pandas as pd\n",
        "import seaborn as sns\n",
        "import matplotlib.pyplot as plt\n",
        "from sklearn.model_selection import train_test_split,cross_val_score, StratifiedKFold\n",
        "from sklearn.ensemble import RandomForestRegressor\n",
        "from sklearn.metrics import classification_report,confusion_matrix,accuracy_score\n",
        "from sklearn import datasets\n",
        "# Hyperopt\n",
        "from hyperopt import hp, fmin, tpe, STATUS_OK, Trials\n",
        "# Optuna\n",
        "import optuna\n",
        "# Grid Search \n",
        "from sklearn.model_selection import GridSearchCV\n",
        "# Random Search\n",
        "from scipy.stats import randint as sp_randint\n",
        "from sklearn.model_selection import RandomizedSearchCV\n",
        "import scipy.stats as stats\n",
        "from scipy.special import factorial"
      ]
    },
    {
      "cell_type": "code",
      "source": [
        "# Loading Boston housing dataset's features and target values\n",
        "data_raw_url = 'https://raw.githubusercontent.com/CallmeQuant/Misc-Dataset/main/Boston%20Housing%20Dataset/housing.csv'\n",
        "column_names = ['CRIM', 'ZN', 'INDUS', 'CHAS', 'NOX', 'RM', 'AGE', 'DIS', 'RAD', 'TAX', 'PTRATIO', 'B', 'LSTAT', 'Price']\n",
        "data = pd.read_csv(data_raw_url, header=None, delimiter=r\"\\s+\", names=column_names)\n",
        "\n",
        "# Splitting into features and target arrays\n",
        "X = data.loc[:, ~data.columns.isin(['Price'])].values\n",
        "y = data.loc[:, 'Price'].values"
      ],
      "metadata": {
        "id": "6HdDMyLfJ09c"
      },
      "execution_count": 2,
      "outputs": []
    },
    {
      "cell_type": "code",
      "source": [
        "print(X.shape)\n",
        "print(y.shape)\n",
        "data.head(10)"
      ],
      "metadata": {
        "id": "MKjus5GKKV8E",
        "colab": {
          "base_uri": "https://localhost:8080/",
          "height": 397
        },
        "outputId": "6fe60a73-8f96-42a9-ab1a-b08221db39f2"
      },
      "execution_count": 3,
      "outputs": [
        {
          "output_type": "stream",
          "name": "stdout",
          "text": [
            "(506, 13)\n",
            "(506,)\n"
          ]
        },
        {
          "output_type": "execute_result",
          "data": {
            "text/plain": [
              "      CRIM    ZN  INDUS  CHAS    NOX     RM    AGE     DIS  RAD    TAX  \\\n",
              "0  0.00632  18.0   2.31     0  0.538  6.575   65.2  4.0900    1  296.0   \n",
              "1  0.02731   0.0   7.07     0  0.469  6.421   78.9  4.9671    2  242.0   \n",
              "2  0.02729   0.0   7.07     0  0.469  7.185   61.1  4.9671    2  242.0   \n",
              "3  0.03237   0.0   2.18     0  0.458  6.998   45.8  6.0622    3  222.0   \n",
              "4  0.06905   0.0   2.18     0  0.458  7.147   54.2  6.0622    3  222.0   \n",
              "5  0.02985   0.0   2.18     0  0.458  6.430   58.7  6.0622    3  222.0   \n",
              "6  0.08829  12.5   7.87     0  0.524  6.012   66.6  5.5605    5  311.0   \n",
              "7  0.14455  12.5   7.87     0  0.524  6.172   96.1  5.9505    5  311.0   \n",
              "8  0.21124  12.5   7.87     0  0.524  5.631  100.0  6.0821    5  311.0   \n",
              "9  0.17004  12.5   7.87     0  0.524  6.004   85.9  6.5921    5  311.0   \n",
              "\n",
              "   PTRATIO       B  LSTAT  Price  \n",
              "0     15.3  396.90   4.98   24.0  \n",
              "1     17.8  396.90   9.14   21.6  \n",
              "2     17.8  392.83   4.03   34.7  \n",
              "3     18.7  394.63   2.94   33.4  \n",
              "4     18.7  396.90   5.33   36.2  \n",
              "5     18.7  394.12   5.21   28.7  \n",
              "6     15.2  395.60  12.43   22.9  \n",
              "7     15.2  396.90  19.15   27.1  \n",
              "8     15.2  386.63  29.93   16.5  \n",
              "9     15.2  386.71  17.10   18.9  "
            ],
            "text/html": [
              "\n",
              "  <div id=\"df-2ef01f6f-142b-4cb8-9562-e0ee9299995f\">\n",
              "    <div class=\"colab-df-container\">\n",
              "      <div>\n",
              "<style scoped>\n",
              "    .dataframe tbody tr th:only-of-type {\n",
              "        vertical-align: middle;\n",
              "    }\n",
              "\n",
              "    .dataframe tbody tr th {\n",
              "        vertical-align: top;\n",
              "    }\n",
              "\n",
              "    .dataframe thead th {\n",
              "        text-align: right;\n",
              "    }\n",
              "</style>\n",
              "<table border=\"1\" class=\"dataframe\">\n",
              "  <thead>\n",
              "    <tr style=\"text-align: right;\">\n",
              "      <th></th>\n",
              "      <th>CRIM</th>\n",
              "      <th>ZN</th>\n",
              "      <th>INDUS</th>\n",
              "      <th>CHAS</th>\n",
              "      <th>NOX</th>\n",
              "      <th>RM</th>\n",
              "      <th>AGE</th>\n",
              "      <th>DIS</th>\n",
              "      <th>RAD</th>\n",
              "      <th>TAX</th>\n",
              "      <th>PTRATIO</th>\n",
              "      <th>B</th>\n",
              "      <th>LSTAT</th>\n",
              "      <th>Price</th>\n",
              "    </tr>\n",
              "  </thead>\n",
              "  <tbody>\n",
              "    <tr>\n",
              "      <th>0</th>\n",
              "      <td>0.00632</td>\n",
              "      <td>18.0</td>\n",
              "      <td>2.31</td>\n",
              "      <td>0</td>\n",
              "      <td>0.538</td>\n",
              "      <td>6.575</td>\n",
              "      <td>65.2</td>\n",
              "      <td>4.0900</td>\n",
              "      <td>1</td>\n",
              "      <td>296.0</td>\n",
              "      <td>15.3</td>\n",
              "      <td>396.90</td>\n",
              "      <td>4.98</td>\n",
              "      <td>24.0</td>\n",
              "    </tr>\n",
              "    <tr>\n",
              "      <th>1</th>\n",
              "      <td>0.02731</td>\n",
              "      <td>0.0</td>\n",
              "      <td>7.07</td>\n",
              "      <td>0</td>\n",
              "      <td>0.469</td>\n",
              "      <td>6.421</td>\n",
              "      <td>78.9</td>\n",
              "      <td>4.9671</td>\n",
              "      <td>2</td>\n",
              "      <td>242.0</td>\n",
              "      <td>17.8</td>\n",
              "      <td>396.90</td>\n",
              "      <td>9.14</td>\n",
              "      <td>21.6</td>\n",
              "    </tr>\n",
              "    <tr>\n",
              "      <th>2</th>\n",
              "      <td>0.02729</td>\n",
              "      <td>0.0</td>\n",
              "      <td>7.07</td>\n",
              "      <td>0</td>\n",
              "      <td>0.469</td>\n",
              "      <td>7.185</td>\n",
              "      <td>61.1</td>\n",
              "      <td>4.9671</td>\n",
              "      <td>2</td>\n",
              "      <td>242.0</td>\n",
              "      <td>17.8</td>\n",
              "      <td>392.83</td>\n",
              "      <td>4.03</td>\n",
              "      <td>34.7</td>\n",
              "    </tr>\n",
              "    <tr>\n",
              "      <th>3</th>\n",
              "      <td>0.03237</td>\n",
              "      <td>0.0</td>\n",
              "      <td>2.18</td>\n",
              "      <td>0</td>\n",
              "      <td>0.458</td>\n",
              "      <td>6.998</td>\n",
              "      <td>45.8</td>\n",
              "      <td>6.0622</td>\n",
              "      <td>3</td>\n",
              "      <td>222.0</td>\n",
              "      <td>18.7</td>\n",
              "      <td>394.63</td>\n",
              "      <td>2.94</td>\n",
              "      <td>33.4</td>\n",
              "    </tr>\n",
              "    <tr>\n",
              "      <th>4</th>\n",
              "      <td>0.06905</td>\n",
              "      <td>0.0</td>\n",
              "      <td>2.18</td>\n",
              "      <td>0</td>\n",
              "      <td>0.458</td>\n",
              "      <td>7.147</td>\n",
              "      <td>54.2</td>\n",
              "      <td>6.0622</td>\n",
              "      <td>3</td>\n",
              "      <td>222.0</td>\n",
              "      <td>18.7</td>\n",
              "      <td>396.90</td>\n",
              "      <td>5.33</td>\n",
              "      <td>36.2</td>\n",
              "    </tr>\n",
              "    <tr>\n",
              "      <th>5</th>\n",
              "      <td>0.02985</td>\n",
              "      <td>0.0</td>\n",
              "      <td>2.18</td>\n",
              "      <td>0</td>\n",
              "      <td>0.458</td>\n",
              "      <td>6.430</td>\n",
              "      <td>58.7</td>\n",
              "      <td>6.0622</td>\n",
              "      <td>3</td>\n",
              "      <td>222.0</td>\n",
              "      <td>18.7</td>\n",
              "      <td>394.12</td>\n",
              "      <td>5.21</td>\n",
              "      <td>28.7</td>\n",
              "    </tr>\n",
              "    <tr>\n",
              "      <th>6</th>\n",
              "      <td>0.08829</td>\n",
              "      <td>12.5</td>\n",
              "      <td>7.87</td>\n",
              "      <td>0</td>\n",
              "      <td>0.524</td>\n",
              "      <td>6.012</td>\n",
              "      <td>66.6</td>\n",
              "      <td>5.5605</td>\n",
              "      <td>5</td>\n",
              "      <td>311.0</td>\n",
              "      <td>15.2</td>\n",
              "      <td>395.60</td>\n",
              "      <td>12.43</td>\n",
              "      <td>22.9</td>\n",
              "    </tr>\n",
              "    <tr>\n",
              "      <th>7</th>\n",
              "      <td>0.14455</td>\n",
              "      <td>12.5</td>\n",
              "      <td>7.87</td>\n",
              "      <td>0</td>\n",
              "      <td>0.524</td>\n",
              "      <td>6.172</td>\n",
              "      <td>96.1</td>\n",
              "      <td>5.9505</td>\n",
              "      <td>5</td>\n",
              "      <td>311.0</td>\n",
              "      <td>15.2</td>\n",
              "      <td>396.90</td>\n",
              "      <td>19.15</td>\n",
              "      <td>27.1</td>\n",
              "    </tr>\n",
              "    <tr>\n",
              "      <th>8</th>\n",
              "      <td>0.21124</td>\n",
              "      <td>12.5</td>\n",
              "      <td>7.87</td>\n",
              "      <td>0</td>\n",
              "      <td>0.524</td>\n",
              "      <td>5.631</td>\n",
              "      <td>100.0</td>\n",
              "      <td>6.0821</td>\n",
              "      <td>5</td>\n",
              "      <td>311.0</td>\n",
              "      <td>15.2</td>\n",
              "      <td>386.63</td>\n",
              "      <td>29.93</td>\n",
              "      <td>16.5</td>\n",
              "    </tr>\n",
              "    <tr>\n",
              "      <th>9</th>\n",
              "      <td>0.17004</td>\n",
              "      <td>12.5</td>\n",
              "      <td>7.87</td>\n",
              "      <td>0</td>\n",
              "      <td>0.524</td>\n",
              "      <td>6.004</td>\n",
              "      <td>85.9</td>\n",
              "      <td>6.5921</td>\n",
              "      <td>5</td>\n",
              "      <td>311.0</td>\n",
              "      <td>15.2</td>\n",
              "      <td>386.71</td>\n",
              "      <td>17.10</td>\n",
              "      <td>18.9</td>\n",
              "    </tr>\n",
              "  </tbody>\n",
              "</table>\n",
              "</div>\n",
              "      <button class=\"colab-df-convert\" onclick=\"convertToInteractive('df-2ef01f6f-142b-4cb8-9562-e0ee9299995f')\"\n",
              "              title=\"Convert this dataframe to an interactive table.\"\n",
              "              style=\"display:none;\">\n",
              "        \n",
              "  <svg xmlns=\"http://www.w3.org/2000/svg\" height=\"24px\"viewBox=\"0 0 24 24\"\n",
              "       width=\"24px\">\n",
              "    <path d=\"M0 0h24v24H0V0z\" fill=\"none\"/>\n",
              "    <path d=\"M18.56 5.44l.94 2.06.94-2.06 2.06-.94-2.06-.94-.94-2.06-.94 2.06-2.06.94zm-11 1L8.5 8.5l.94-2.06 2.06-.94-2.06-.94L8.5 2.5l-.94 2.06-2.06.94zm10 10l.94 2.06.94-2.06 2.06-.94-2.06-.94-.94-2.06-.94 2.06-2.06.94z\"/><path d=\"M17.41 7.96l-1.37-1.37c-.4-.4-.92-.59-1.43-.59-.52 0-1.04.2-1.43.59L10.3 9.45l-7.72 7.72c-.78.78-.78 2.05 0 2.83L4 21.41c.39.39.9.59 1.41.59.51 0 1.02-.2 1.41-.59l7.78-7.78 2.81-2.81c.8-.78.8-2.07 0-2.86zM5.41 20L4 18.59l7.72-7.72 1.47 1.35L5.41 20z\"/>\n",
              "  </svg>\n",
              "      </button>\n",
              "      \n",
              "  <style>\n",
              "    .colab-df-container {\n",
              "      display:flex;\n",
              "      flex-wrap:wrap;\n",
              "      gap: 12px;\n",
              "    }\n",
              "\n",
              "    .colab-df-convert {\n",
              "      background-color: #E8F0FE;\n",
              "      border: none;\n",
              "      border-radius: 50%;\n",
              "      cursor: pointer;\n",
              "      display: none;\n",
              "      fill: #1967D2;\n",
              "      height: 32px;\n",
              "      padding: 0 0 0 0;\n",
              "      width: 32px;\n",
              "    }\n",
              "\n",
              "    .colab-df-convert:hover {\n",
              "      background-color: #E2EBFA;\n",
              "      box-shadow: 0px 1px 2px rgba(60, 64, 67, 0.3), 0px 1px 3px 1px rgba(60, 64, 67, 0.15);\n",
              "      fill: #174EA6;\n",
              "    }\n",
              "\n",
              "    [theme=dark] .colab-df-convert {\n",
              "      background-color: #3B4455;\n",
              "      fill: #D2E3FC;\n",
              "    }\n",
              "\n",
              "    [theme=dark] .colab-df-convert:hover {\n",
              "      background-color: #434B5C;\n",
              "      box-shadow: 0px 1px 3px 1px rgba(0, 0, 0, 0.15);\n",
              "      filter: drop-shadow(0px 1px 2px rgba(0, 0, 0, 0.3));\n",
              "      fill: #FFFFFF;\n",
              "    }\n",
              "  </style>\n",
              "\n",
              "      <script>\n",
              "        const buttonEl =\n",
              "          document.querySelector('#df-2ef01f6f-142b-4cb8-9562-e0ee9299995f button.colab-df-convert');\n",
              "        buttonEl.style.display =\n",
              "          google.colab.kernel.accessAllowed ? 'block' : 'none';\n",
              "\n",
              "        async function convertToInteractive(key) {\n",
              "          const element = document.querySelector('#df-2ef01f6f-142b-4cb8-9562-e0ee9299995f');\n",
              "          const dataTable =\n",
              "            await google.colab.kernel.invokeFunction('convertToInteractive',\n",
              "                                                     [key], {});\n",
              "          if (!dataTable) return;\n",
              "\n",
              "          const docLinkHtml = 'Like what you see? Visit the ' +\n",
              "            '<a target=\"_blank\" href=https://colab.research.google.com/notebooks/data_table.ipynb>data table notebook</a>'\n",
              "            + ' to learn more about interactive tables.';\n",
              "          element.innerHTML = '';\n",
              "          dataTable['output_type'] = 'display_data';\n",
              "          await google.colab.output.renderOutput(dataTable, element);\n",
              "          const docLink = document.createElement('div');\n",
              "          docLink.innerHTML = docLinkHtml;\n",
              "          element.appendChild(docLink);\n",
              "        }\n",
              "      </script>\n",
              "    </div>\n",
              "  </div>\n",
              "  "
            ]
          },
          "metadata": {},
          "execution_count": 3
        }
      ]
    },
    {
      "cell_type": "markdown",
      "source": [
        "## **Random Forest Regressor with Default Hyperparameters**"
      ],
      "metadata": {
        "id": "MVifc3RXBLxo"
      }
    },
    {
      "cell_type": "code",
      "source": [
        "#Random Forest\n",
        "%%time\n",
        "clf = RandomForestRegressor()\n",
        "scores = cross_val_score(clf, X, y, cv=3,scoring='neg_mean_squared_error') # 3-fold cross-validation\n",
        "print(\"MSE:\"+ str(-scores.mean()))"
      ],
      "metadata": {
        "id": "Js6auU1JUCTd",
        "colab": {
          "base_uri": "https://localhost:8080/"
        },
        "outputId": "6449b7ff-7f14-49a2-ed2f-7d64320797d0"
      },
      "execution_count": 9,
      "outputs": [
        {
          "output_type": "stream",
          "name": "stdout",
          "text": [
            "MSE:29.700032868648446\n",
            "CPU times: user 620 ms, sys: 2.11 ms, total: 622 ms\n",
            "Wall time: 626 ms\n"
          ]
        }
      ]
    },
    {
      "cell_type": "markdown",
      "source": [
        "## **Hyperparameters Tuning Approach 1: Grid Search Cross-Validation**\n"
      ],
      "metadata": {
        "id": "bbNSLj6rB0Ny"
      }
    },
    {
      "cell_type": "code",
      "source": [
        "# Define hyperparameter configuration space \n",
        "%%time\n",
        "rf_params_space = {\n",
        "    'n_estimators': [10, 20, 30],\n",
        "    'max_features': ['sqrt', 0.5],\n",
        "    'max_depth': [15, 20, 30, 50],\n",
        "    'min_samples_leaf': [1,2,4,8],\n",
        "    \"bootstrap\":[True,False],\n",
        "    \"criterion\":['squared_error', 'absolute_error']\n",
        "}\n",
        "\n",
        "clf = RandomForestRegressor(random_state=0)\n",
        "grid = GridSearchCV(clf, rf_params_space, cv = 3, scoring='neg_mean_squared_error')\n",
        "grid.fit(X, y)\n",
        "print(grid.best_params_)\n",
        "print(\"MSE:\"+ str(-grid.best_score_))"
      ],
      "metadata": {
        "colab": {
          "base_uri": "https://localhost:8080/"
        },
        "id": "WbyBDSgKBTEk",
        "outputId": "31a61f23-5990-4f87-90c9-ac91f0137794"
      },
      "execution_count": 10,
      "outputs": [
        {
          "output_type": "stream",
          "name": "stdout",
          "text": [
            "{'bootstrap': True, 'criterion': 'squared_error', 'max_depth': 15, 'max_features': 0.5, 'min_samples_leaf': 4, 'n_estimators': 20}\n",
            "MSE:25.639921597582575\n",
            "CPU times: user 15.4 s, sys: 68.6 ms, total: 15.5 s\n",
            "Wall time: 16.8 s\n"
          ]
        }
      ]
    },
    {
      "cell_type": "markdown",
      "source": [
        "## **Hyperparameters Tuning Approach 1: Random Search Cross-Validation**"
      ],
      "metadata": {
        "id": "ZdtH1ejpY53X"
      }
    },
    {
      "cell_type": "code",
      "source": [
        "# Define hyperparameter configuration space \n",
        "%%time\n",
        "rf_params_space = {\n",
        "    'n_estimators': sp_randint(10,100),\n",
        "    \"max_features\":sp_randint(1,13),\n",
        "    'max_depth': sp_randint(5,50),\n",
        "    \"min_samples_split\":sp_randint(2,11),\n",
        "    \"min_samples_leaf\":sp_randint(1,11),\n",
        "    \"criterion\":['squared_error', 'absolute_error']\n",
        "}\n",
        "n_iter_search=20 # number of iterations is set to 20\n",
        "clf = RandomForestRegressor(random_state=0)\n",
        "Random = RandomizedSearchCV(clf, param_distributions=rf_params_space, error_score = 'raise',\n",
        "                            n_iter=n_iter_search, cv=3, scoring=\"neg_mean_squared_error\")\n",
        "Random.fit(X, y)\n",
        "print(Random.best_params_)\n",
        "print(\"MSE:\"+ str(-Random.best_score_))"
      ],
      "metadata": {
        "id": "uzNh7xrEczTc",
        "colab": {
          "base_uri": "https://localhost:8080/"
        },
        "outputId": "c2f0c59b-7d2b-4e5c-b8ab-df21032f1be4"
      },
      "execution_count": 11,
      "outputs": [
        {
          "output_type": "stream",
          "name": "stdout",
          "text": [
            "{'criterion': 'squared_error', 'max_depth': 21, 'max_features': 6, 'min_samples_leaf': 4, 'min_samples_split': 2, 'n_estimators': 13}\n",
            "MSE:25.651535014283024\n",
            "CPU times: user 5.09 s, sys: 21.3 ms, total: 5.11 s\n",
            "Wall time: 5.14 s\n"
          ]
        }
      ]
    },
    {
      "cell_type": "markdown",
      "source": [
        "## **Bayesian Optimization with Tree-structured Parzen Estimator (TPE)**\n",
        "### **Hyperopt**"
      ],
      "metadata": {
        "id": "Tj308ZqnUuPS"
      }
    },
    {
      "cell_type": "code",
      "source": [
        "#Random Forest\n",
        "# Define the objective function\n",
        "%%time\n",
        "def objective(params):\n",
        "    params = {\n",
        "        'n_estimators': int(params['n_estimators']), \n",
        "        'max_depth': int(params['max_depth']),\n",
        "        'max_features': int(params['max_features']),\n",
        "        \"min_samples_split\":int(params['min_samples_split']),\n",
        "        \"min_samples_leaf\":int(params['min_samples_leaf']),\n",
        "        \"criterion\":str(params['criterion'])\n",
        "    }\n",
        "    clf = RandomForestRegressor( **params)\n",
        "    score = -np.mean(cross_val_score(clf, X, y, cv=3, n_jobs=-1,\n",
        "                                    scoring=\"neg_mean_squared_error\"))\n",
        "\n",
        "    return {'loss':score, 'status': STATUS_OK }\n",
        "# Define the hyperparameter configuration space\n",
        "space = {\n",
        "    'n_estimators': hp.quniform('n_estimators', 10, 100, 1),\n",
        "    'max_depth': hp.quniform('max_depth', 5, 50, 1),\n",
        "    \"max_features\":hp.quniform('max_features', 1, 13, 1),\n",
        "    \"min_samples_split\":hp.quniform('min_samples_split',2,11,1),\n",
        "    \"min_samples_leaf\":hp.quniform('min_samples_leaf',1,11,1),\n",
        "    \"criterion\":hp.choice('criterion',['squared_error', 'absolute_error'])\n",
        "}\n",
        "\n",
        "best = fmin(fn=objective,\n",
        "            space=space,\n",
        "            algo=tpe.suggest,\n",
        "            max_evals=20)\n",
        "print(\"Random Forest: Hyperopt estimated optimum {}\".format(best))"
      ],
      "metadata": {
        "colab": {
          "base_uri": "https://localhost:8080/"
        },
        "id": "UJTEPjL1R0Th",
        "outputId": "37db128d-cf1c-4e09-c63c-949ddbd83011"
      },
      "execution_count": 16,
      "outputs": [
        {
          "output_type": "stream",
          "name": "stdout",
          "text": [
            "100%|██████████| 20/20 [00:08<00:00,  2.39trial/s, best loss: 25.625549516346542]\n",
            "Random Forest: Hyperopt estimated optimum {'criterion': 0, 'max_depth': 22.0, 'max_features': 8.0, 'min_samples_leaf': 3.0, 'min_samples_split': 4.0, 'n_estimators': 95.0}\n",
            "CPU times: user 221 ms, sys: 26.1 ms, total: 247 ms\n",
            "Wall time: 8.37 s\n"
          ]
        }
      ]
    },
    {
      "cell_type": "markdown",
      "source": [
        "### **Optuna**"
      ],
      "metadata": {
        "id": "YfoDv80WV_fd"
      }
    },
    {
      "cell_type": "code",
      "source": [
        "# Define the objective function\n",
        "%%time\n",
        "def objective(trial:optuna.trial.Trial):\n",
        "        params = {\n",
        "            'n_estimators': trial.suggest_int('n_estimators', 10, 100),\n",
        "            'max_depth': trial.suggest_int('max_depth', 5, 50),\n",
        "            'max_features': trial.suggest_int('max_features', 1, 13),\n",
        "            'min_samples_split': trial.suggest_int('min_samples_split', 2, 11),\n",
        "            'min_samples_leaf': trial.suggest_int('min_samples_leaf', 1, 11),\n",
        "        }\n",
        "        clf = RandomForestRegressor(**params)\n",
        "        score = -np.mean(cross_val_score(clf, X, y, cv=3, n_jobs=-1,\n",
        "                                    scoring=\"neg_mean_squared_error\"))\n",
        "        return score\n",
        "    \n",
        "study = optuna.create_study(direction='minimize', pruner=optuna.pruners.MedianPruner(n_warmup_steps=5))\n",
        "study.optimize(objective, n_trials = 20)\n",
        "print(f'===== Optimizing Process Finished =====')\n",
        "print(study.best_value)\n",
        "print(study.best_params)"
      ],
      "metadata": {
        "colab": {
          "base_uri": "https://localhost:8080/"
        },
        "id": "4vFjEmFVV-6E",
        "outputId": "ff0f767a-e614-4696-a4b7-a4cfd3297f7c"
      },
      "execution_count": 20,
      "outputs": [
        {
          "output_type": "stream",
          "name": "stderr",
          "text": [
            "\u001b[32m[I 2023-03-20 18:55:40,110]\u001b[0m A new study created in memory with name: no-name-f6b8e694-eef8-4142-8086-7f3a354c20cb\u001b[0m\n",
            "\u001b[32m[I 2023-03-20 18:55:41,764]\u001b[0m Trial 0 finished with value: 28.252345369370246 and parameters: {'n_estimators': 100, 'max_depth': 35, 'max_features': 4, 'min_samples_split': 7, 'min_samples_leaf': 2}. Best is trial 0 with value: 28.252345369370246.\u001b[0m\n",
            "\u001b[32m[I 2023-03-20 18:55:41,996]\u001b[0m Trial 1 finished with value: 30.71170174637524 and parameters: {'n_estimators': 79, 'max_depth': 31, 'max_features': 4, 'min_samples_split': 2, 'min_samples_leaf': 11}. Best is trial 0 with value: 28.252345369370246.\u001b[0m\n",
            "\u001b[32m[I 2023-03-20 18:55:42,156]\u001b[0m Trial 2 finished with value: 32.91101007512376 and parameters: {'n_estimators': 57, 'max_depth': 10, 'max_features': 3, 'min_samples_split': 2, 'min_samples_leaf': 10}. Best is trial 0 with value: 28.252345369370246.\u001b[0m\n",
            "\u001b[32m[I 2023-03-20 18:55:42,317]\u001b[0m Trial 3 finished with value: 28.86962236285329 and parameters: {'n_estimators': 54, 'max_depth': 46, 'max_features': 4, 'min_samples_split': 3, 'min_samples_leaf': 5}. Best is trial 0 with value: 28.252345369370246.\u001b[0m\n",
            "\u001b[32m[I 2023-03-20 18:55:42,489]\u001b[0m Trial 4 finished with value: 28.81557137416841 and parameters: {'n_estimators': 46, 'max_depth': 17, 'max_features': 11, 'min_samples_split': 3, 'min_samples_leaf': 7}. Best is trial 0 with value: 28.252345369370246.\u001b[0m\n",
            "\u001b[32m[I 2023-03-20 18:55:42,588]\u001b[0m Trial 5 finished with value: 34.79473187340259 and parameters: {'n_estimators': 33, 'max_depth': 30, 'max_features': 3, 'min_samples_split': 10, 'min_samples_leaf': 8}. Best is trial 0 with value: 28.252345369370246.\u001b[0m\n",
            "\u001b[32m[I 2023-03-20 18:55:42,815]\u001b[0m Trial 6 finished with value: 30.73964162347768 and parameters: {'n_estimators': 64, 'max_depth': 37, 'max_features': 12, 'min_samples_split': 8, 'min_samples_leaf': 9}. Best is trial 0 with value: 28.252345369370246.\u001b[0m\n",
            "\u001b[32m[I 2023-03-20 18:55:42,926]\u001b[0m Trial 7 finished with value: 30.25190933740083 and parameters: {'n_estimators': 21, 'max_depth': 11, 'max_features': 10, 'min_samples_split': 2, 'min_samples_leaf': 1}. Best is trial 0 with value: 28.252345369370246.\u001b[0m\n",
            "\u001b[32m[I 2023-03-20 18:55:43,057]\u001b[0m Trial 8 finished with value: 29.540920456719675 and parameters: {'n_estimators': 35, 'max_depth': 22, 'max_features': 11, 'min_samples_split': 5, 'min_samples_leaf': 8}. Best is trial 0 with value: 28.252345369370246.\u001b[0m\n",
            "\u001b[32m[I 2023-03-20 18:55:43,323]\u001b[0m Trial 9 finished with value: 28.35650278879339 and parameters: {'n_estimators': 88, 'max_depth': 40, 'max_features': 6, 'min_samples_split': 9, 'min_samples_leaf': 9}. Best is trial 0 with value: 28.252345369370246.\u001b[0m\n",
            "\u001b[32m[I 2023-03-20 18:55:43,597]\u001b[0m Trial 10 finished with value: 42.270324938557565 and parameters: {'n_estimators': 98, 'max_depth': 49, 'max_features': 1, 'min_samples_split': 6, 'min_samples_leaf': 1}. Best is trial 0 with value: 28.252345369370246.\u001b[0m\n",
            "\u001b[32m[I 2023-03-20 18:55:43,966]\u001b[0m Trial 11 finished with value: 27.054697818431176 and parameters: {'n_estimators': 99, 'max_depth': 41, 'max_features': 7, 'min_samples_split': 9, 'min_samples_leaf': 4}. Best is trial 11 with value: 27.054697818431176.\u001b[0m\n",
            "\u001b[32m[I 2023-03-20 18:55:44,335]\u001b[0m Trial 12 finished with value: 28.7067842232489 and parameters: {'n_estimators': 100, 'max_depth': 41, 'max_features': 8, 'min_samples_split': 8, 'min_samples_leaf': 4}. Best is trial 11 with value: 27.054697818431176.\u001b[0m\n",
            "\u001b[32m[I 2023-03-20 18:55:44,603]\u001b[0m Trial 13 finished with value: 27.84725244690316 and parameters: {'n_estimators': 74, 'max_depth': 35, 'max_features': 7, 'min_samples_split': 11, 'min_samples_leaf': 3}. Best is trial 11 with value: 27.054697818431176.\u001b[0m\n",
            "\u001b[32m[I 2023-03-20 18:55:44,898]\u001b[0m Trial 14 finished with value: 27.29746744807659 and parameters: {'n_estimators': 76, 'max_depth': 25, 'max_features': 8, 'min_samples_split': 11, 'min_samples_leaf': 3}. Best is trial 11 with value: 27.054697818431176.\u001b[0m\n",
            "\u001b[32m[I 2023-03-20 18:55:45,295]\u001b[0m Trial 15 finished with value: 27.649556521231897 and parameters: {'n_estimators': 82, 'max_depth': 25, 'max_features': 9, 'min_samples_split': 11, 'min_samples_leaf': 5}. Best is trial 11 with value: 27.054697818431176.\u001b[0m\n",
            "\u001b[32m[I 2023-03-20 18:55:45,680]\u001b[0m Trial 16 finished with value: 27.33630157592715 and parameters: {'n_estimators': 70, 'max_depth': 22, 'max_features': 7, 'min_samples_split': 10, 'min_samples_leaf': 3}. Best is trial 11 with value: 27.054697818431176.\u001b[0m\n",
            "\u001b[32m[I 2023-03-20 18:55:46,267]\u001b[0m Trial 17 finished with value: 29.731049136083225 and parameters: {'n_estimators': 89, 'max_depth': 5, 'max_features': 13, 'min_samples_split': 9, 'min_samples_leaf': 6}. Best is trial 11 with value: 27.054697818431176.\u001b[0m\n",
            "\u001b[32m[I 2023-03-20 18:55:46,759]\u001b[0m Trial 18 finished with value: 26.832964941612005 and parameters: {'n_estimators': 89, 'max_depth': 45, 'max_features': 6, 'min_samples_split': 10, 'min_samples_leaf': 4}. Best is trial 18 with value: 26.832964941612005.\u001b[0m\n",
            "\u001b[32m[I 2023-03-20 18:55:47,230]\u001b[0m Trial 19 finished with value: 28.144807841524237 and parameters: {'n_estimators': 89, 'max_depth': 44, 'max_features': 6, 'min_samples_split': 9, 'min_samples_leaf': 5}. Best is trial 18 with value: 26.832964941612005.\u001b[0m\n"
          ]
        },
        {
          "output_type": "stream",
          "name": "stdout",
          "text": [
            "===== Optimizing Process Finished =====\n",
            "26.832964941612005\n",
            "{'n_estimators': 89, 'max_depth': 45, 'max_features': 6, 'min_samples_split': 10, 'min_samples_leaf': 4}\n",
            "CPU times: user 430 ms, sys: 36.1 ms, total: 466 ms\n",
            "Wall time: 7.12 s\n"
          ]
        }
      ]
    }
  ]
}