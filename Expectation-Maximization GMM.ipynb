{
  "nbformat": 4,
  "nbformat_minor": 0,
  "metadata": {
    "colab": {
      "provenance": [],
      "collapsed_sections": []
    },
    "kernelspec": {
      "display_name": "Python 3",
      "language": "python",
      "name": "python3"
    }
  },
  "cells": [
    {
      "metadata": {
        "id": "WMlNHfVxBEDT"
      },
      "cell_type": "markdown",
      "source": [
        "# Expectation-maximization algorithm"
      ]
    },
    {
      "metadata": {
        "id": "icS4MsxIBEDU"
      },
      "cell_type": "markdown",
      "source": [
        "In this assignment, we will derive and implement formulas for Gaussian Mixture Model — one of the most commonly used methods for performing soft clustering of the data. "
      ]
    },
    {
      "metadata": {
        "id": "jequoJfSBEDV"
      },
      "cell_type": "markdown",
      "source": [
        "### Setup\n",
        "Loading auxiliary files and importing the necessary libraries."
      ]
    },
    {
      "metadata": {
        "id": "ZqZo-y9UBEDX",
        "colab": {
          "base_uri": "https://localhost:8080/"
        },
        "outputId": "0324d4d9-0d60-4a3b-9ae0-77765961afd2"
      },
      "cell_type": "code",
      "source": [
        "try:\n",
        "    import google.colab\n",
        "    IN_COLAB = True\n",
        "except:\n",
        "    IN_COLAB = False\n",
        "if IN_COLAB:\n",
        "    print(\"Downloading Colab files\")\n",
        "    ! shred -u setup_google_colab.py\n",
        "    ! wget https://raw.githubusercontent.com/hse-aml/bayesian-methods-for-ml/master/setup_google_colab.py -O setup_google_colab.py\n",
        "    import setup_google_colab\n",
        "    setup_google_colab.load_data_week2()"
      ],
      "execution_count": null,
      "outputs": [
        {
          "output_type": "stream",
          "name": "stdout",
          "text": [
            "Downloading Colab files\n",
            "shred: setup_google_colab.py: failed to open for writing: No such file or directory\n",
            "--2022-09-16 00:42:17--  https://raw.githubusercontent.com/hse-aml/bayesian-methods-for-ml/master/setup_google_colab.py\n",
            "Resolving raw.githubusercontent.com (raw.githubusercontent.com)... 185.199.108.133, 185.199.109.133, 185.199.111.133, ...\n",
            "Connecting to raw.githubusercontent.com (raw.githubusercontent.com)|185.199.108.133|:443... connected.\n",
            "HTTP request sent, awaiting response... 200 OK\n",
            "Length: 1232 (1.2K) [text/plain]\n",
            "Saving to: ‘setup_google_colab.py’\n",
            "\n",
            "setup_google_colab. 100%[===================>]   1.20K  --.-KB/s    in 0s      \n",
            "\n",
            "2022-09-16 00:42:18 (23.9 MB/s) - ‘setup_google_colab.py’ saved [1232/1232]\n",
            "\n",
            "https://raw.githubusercontent.com/hse-aml/bayesian-methods-for-ml/master/week2/w2_grader.py w2_grader.py\n",
            "https://raw.githubusercontent.com/hse-aml/bayesian-methods-for-ml/master/week2/samples.npz samples.npz\n"
          ]
        }
      ]
    },
    {
      "metadata": {
        "id": "urylZcbeBEDc"
      },
      "cell_type": "code",
      "source": [
        "import numpy as np\n",
        "from numpy.linalg import slogdet, det, solve\n",
        "import matplotlib.pyplot as plt\n",
        "import time\n",
        "from sklearn.datasets import load_digits\n",
        "from scipy.stats import multivariate_normal\n",
        "from w2_grader import EMGrader\n",
        "%matplotlib inline"
      ],
      "execution_count": null,
      "outputs": []
    },
    {
      "metadata": {
        "id": "tP8l9frZBEDf"
      },
      "cell_type": "markdown",
      "source": [
        "### Grading\n",
        "We will create a grader instance below and use it to collect your answers. Note that these outputs will be stored locally inside grader and will be uploaded to the platform only after running submitting function in the last part of this assignment. If you want to make a partial submission, you can run that cell anytime you want."
      ]
    },
    {
      "metadata": {
        "id": "7Gvy3EOvBEDg"
      },
      "cell_type": "code",
      "source": [
        "grader = EMGrader()"
      ],
      "execution_count": null,
      "outputs": []
    },
    {
      "metadata": {
        "id": "dL3A2sntBEDj"
      },
      "cell_type": "markdown",
      "source": [
        "## Implementing EM for GMM"
      ]
    },
    {
      "metadata": {
        "id": "0xPS_VdpBEDk"
      },
      "cell_type": "markdown",
      "source": [
        "For debugging, we will use samples from a Gaussian mixture model with unknown mean, variance, and priors. We also added initial values of parameters for grading purposes."
      ]
    },
    {
      "metadata": {
        "id": "g9_aOn94BEDl",
        "colab": {
          "base_uri": "https://localhost:8080/",
          "height": 265
        },
        "outputId": "c8cadfca-b036-4736-992d-2808dc850cae"
      },
      "cell_type": "code",
      "source": [
        "samples = np.load('samples.npz')\n",
        "X = samples['data']\n",
        "pi0 = samples['pi0']\n",
        "mu0 = samples['mu0']\n",
        "sigma0 = samples['sigma0']\n",
        "plt.scatter(X[:, 0], X[:, 1], c='grey', s=30)\n",
        "plt.axis('equal')\n",
        "plt.show()"
      ],
      "execution_count": null,
      "outputs": [
        {
          "output_type": "display_data",
          "data": {
            "text/plain": [
              "<Figure size 432x288 with 1 Axes>"
            ],
            "image/png": "[encoded data removed]"
          },
          "metadata": {
            "needs_background": "light"
          }
        }
      ]
    },
    {
      "metadata": {
        "id": "AmgeHTCfBEDp"
      },
      "cell_type": "markdown",
      "source": [
        "### Reminder"
      ]
    },
    {
      "metadata": {
        "id": "RgAwWi1nBEDq"
      },
      "cell_type": "markdown",
      "source": [
        "Remember, that EM algorithm is a coordinate descent optimization of variational lower bound $\\mathcal{L}(\\theta, q) = \\int q(T) \\log\\frac{p(X, T|\\theta)}{q(T)}dT\\to \\max$.\n",
        "\n",
        "<b>E-step</b>:<br>\n",
        "$\\mathcal{L}(\\theta, q) \\to \\max\\limits_{q} \\Leftrightarrow \\mathcal{KL} [q(T) \\,\\|\\, p(T|X, \\theta)] \\to \\min \\limits_{q\\in Q} \\Rightarrow q(T) = p(T|X, \\theta)$<br>\n",
        "<b>M-step</b>:<br> \n",
        "$\\mathcal{L}(\\theta, q) \\to \\max\\limits_{\\theta} \\Leftrightarrow \\mathbb{E}_{q(T)}\\log p(X,T | \\theta) \\to \\max\\limits_{\\theta}$\n",
        "\n",
        "For GMM, $\\theta$ is a set of parameters that consists of mean vectors $\\mu_c$, covariance matrices $\\Sigma_c$ and priors $\\pi_c$ for each component.\n",
        "\n",
        "Latent variables $T$ are indices of components to which each data point is assigned, i.e. $t_i$  is the cluster index for object $x_i$.\n",
        "\n",
        "The joint distribution can be written as follows: $\\log p(T, X \\mid \\theta) =  \\sum\\limits_{i=1}^N \\log p(t_i, x_i \\mid \\theta) = \\sum\\limits_{i=1}^N \\sum\\limits_{c=1}^C q(t_i = c) \\log \\left (\\pi_c \\, f_{\\!\\mathcal{N}}(x_i \\mid \\mu_c, \\Sigma_c)\\right)$,\n",
        "where $f_{\\!\\mathcal{N}}(x \\mid \\mu_c, \\Sigma_c) = \\frac{1}{\\sqrt{(2\\pi)^n|\\boldsymbol\\Sigma_c|}}\n",
        "\\exp\\left(-\\frac{1}{2}({x}-{\\mu_c})^T{\\boldsymbol\\Sigma_c}^{-1}({x}-{\\mu_c})\n",
        "\\right)$ is the probability density function (pdf) of the normal distribution $\\mathcal{N}(x_i \\mid \\mu_c, \\Sigma_c)$."
      ]
    },
    {
      "metadata": {
        "id": "ELmi1nAtBEDr"
      },
      "cell_type": "markdown",
      "source": [
        "### E-step\n",
        "In this step we need to estimate the posterior distribution over the latent variables with fixed values of parameters: $q_i(t_i) = p(t_i \\mid x_i, \\theta)$. We assume that $t_i$ equals to the cluster index of the true component of the $x_i$ object. To do so we need to compute $\\gamma_{ic} = p(t_i = c \\mid x_i, \\theta)$. Note that $\\sum\\limits_{c=1}^C\\gamma_{ic}=1$.\n"
      ]
    },
    {
      "metadata": {
        "id": "53FR1RJ9BEDs"
      },
      "cell_type": "markdown",
      "source": [
        "<b>Important trick 1:</b> It is important to avoid numerical errors. At some point you will have to compute the formula of the following form: $\\frac{e^{y_i}}{\\sum_j e^{y_j}}$, which is called _softmax_. When you compute exponents of large numbers, some numbers may become infinity. You can avoid this by dividing numerator and denominator by $e^{\\max(y)}$: $\\frac{e^{y_i-\\max(y)}}{\\sum_j e^{y_j - \\max(y)}}$. After this transformation maximum value in the denominator will be equal to one. All other terms will contribute smaller values. So, to compute desired formula you first subtract maximum value from each component in vector $\\mathbf{y}$ and then compute everything else as before.\n",
        "\n",
        "<b>Important trick 2:</b> You will probably need to compute formula of the form $A^{-1}x$ at some point. You would normally inverse $A$ and then multiply it by $x$. A bit faster and more numerically accurate way to do this is to directly solve equation $Ay = x$ by using a special function. Its solution is $y=A^{-1}x$, but the equation $Ay = x$ can be solved by methods which do not explicitely invert the matrix. You can use ```np.linalg.solve``` for this.\n",
        "\n",
        "<b>Other usefull functions: </b> <a href=\"https://docs.scipy.org/doc/numpy/reference/generated/numpy.linalg.slogdet.html\">```slogdet```</a> and <a href=\"https://docs.scipy.org/doc/numpy/reference/generated/numpy.linalg.det.html#numpy.linalg.det\">```det```</a>"
      ]
    },
    {
      "metadata": {
        "id": "KL87Q8-TBEDu"
      },
      "cell_type": "markdown",
      "source": [
        "<b>Task 1:</b> Implement E-step for GMM using template below."
      ]
    },
    {
      "metadata": {
        "id": "wCUCaD28BEDw"
      },
      "cell_type": "code",
      "source": [
        "def E_step(X, pi, mu, sigma, analytic = False):\n",
        "    \"\"\"\n",
        "    Performs E-step on GMM model\n",
        "    Each input is numpy array:\n",
        "    X: (N x d), data points\n",
        "    pi: (C), mixture component weights \n",
        "    mu: (C x d), mixture component means\n",
        "    sigma: (C x d x d), mixture component covariance matrices\n",
        "    \n",
        "    Returns:\n",
        "    gamma: (N x C), probabilities of clusters for objects\n",
        "    \"\"\"\n",
        "    N = X.shape[0] # number of objects\n",
        "    C = pi.shape[0] # number of clusters\n",
        "    d = mu.shape[1] # dimension of each object\n",
        "    gamma = np.zeros((N, C)) # distribution q(T)\n",
        "\n",
        "    # q_i(t_i) = p(t_i \\mid x_i, \\theta) = p(x_i, t_i \\mid \\theta) p(t_i \\mid \\theta)\n",
        "    if not analytic:\n",
        "      for i in range(C):\n",
        "        pi_i = pi[i] # Weight of latent dist ith\n",
        "        mean_i = mu[i,:] # mean vector of latent dist ith (1xd) matrix \n",
        "        cov_i = sigma[i,:,:] # cov matrix of latent dist ith (d x d) matrix \n",
        "        det_cov = np.linalg.det(cov_i)\n",
        "        if det_cov <= 0.0:\n",
        "          raise ValueError(\"Determinant can't be negative\")\n",
        "          break\n",
        "\n",
        "        # Update the prob of comming from latent dist ith given all the observed values\n",
        "        # Update using defined normal from scipy \n",
        "        gamma[:,i] = multivariate_normal.pdf(X, mean = mean_i, cov = cov_i)\n",
        "        gamma[:,i] = pi_i * gamma[:, i]\n",
        "        # Softmax to avoid overflow\n",
        "      gamma = gamma / np.sum(gamma, 1).reshape(-1,1)\n",
        "\n",
        "    else:\n",
        "      for n in range(N):\n",
        "        xi = X[n]\n",
        "        for i in range(C):\n",
        "          diff = np.reshape(xi - mu[i], (d,))\n",
        "\n",
        "          gamma[n, i] = np.log(pi[i]) - (0.5) * np.linalg.slogdet(sigma[i])[1] \n",
        "          - (0.5) * np.dot(np.transpose(diff), np.linalg.solve(sigma[i], diff))\n",
        "          gamma[n] = gamma[n] - np.max(gamma[n])\n",
        "          gamma[n] = np.exp(gamma[n])\n",
        "          gamma[n] = gamma[n] / np.sum(gamma[n])\n",
        "      \n",
        "    return gamma"
      ],
      "execution_count": null,
      "outputs": []
    },
    {
      "metadata": {
        "id": "xlhktOlMBED1",
        "colab": {
          "base_uri": "https://localhost:8080/"
        },
        "outputId": "55f2fa58-168d-4e1f-d10b-2dda25cc0567"
      },
      "cell_type": "code",
      "source": [
        "gamma = E_step(X, pi0, mu0, sigma0, analytic = False)\n",
        "# print(gamma)\n",
        "grader.submit_e_step(gamma)"
      ],
      "execution_count": null,
      "outputs": [
        {
          "output_type": "stream",
          "name": "stdout",
          "text": [
            "Current answer for task Task 1 (E-step) is: 0.5337178741081263\n"
          ]
        }
      ]
    },
    {
      "metadata": {
        "id": "fERrQWSCBED5"
      },
      "cell_type": "markdown",
      "source": [
        "### M-step\n",
        "\n",
        "In M-step we need to maximize $\\mathbb{E}_{q(T)}\\log p(X,T | \\theta)$ with respect to $\\theta$. In our model this means that we need to find optimal values of $\\pi$, $\\mu$, $\\Sigma$. To do so, you need to compute the derivatives and \n",
        "set them to zero. You should start by deriving formulas for $\\mu$ as it is the easiest part. Then move on to $\\Sigma$. Here it is crucial to optimize function w.r.t. to $\\Lambda = \\Sigma^{-1}$ and then inverse obtained result. Finaly, to compute $\\pi$, you will need <a href=\"https://www3.nd.edu/~jstiver/FIN360/Constrained%20Optimization.pdf\">Lagrange Multipliers technique</a> to satisfy constraint $\\sum\\limits_{i=1}^{n}\\pi_i = 1$.\n",
        "\n",
        "<br>\n",
        "<b>Important note:</b> You will need to compute derivatives of scalars with respect to matrices. To refresh this technique from previous courses, see <a href=\"https://en.wikipedia.org/wiki/Matrix_calculus\"> wiki article</a> about it . Main formulas of matrix derivatives can be found in <a href=\"http://www2.imm.dtu.dk/pubdb/views/edoc_download.php/3274/pdf/imm3274.pdf\">Chapter 2 of The Matrix Cookbook</a>. For example, there you may find that $\\frac{\\partial}{\\partial A}\\log |A| = A^{-T}$.\n"
      ]
    },
    {
      "metadata": {
        "id": "A31OYSogBED6"
      },
      "cell_type": "markdown",
      "source": [
        "<b>Task 2:</b> Implement M-step for GMM using template below."
      ]
    },
    {
      "metadata": {
        "id": "mhOr5I1bBED7"
      },
      "cell_type": "code",
      "source": [
        "def M_step(X, gamma):\n",
        "    \"\"\"\n",
        "    Performs M-step on GMM model\n",
        "    Each input is numpy array:\n",
        "    X: (N x d), data points\n",
        "    gamma: (N x C), distribution q(T)  \n",
        "    \n",
        "    Returns:\n",
        "    pi: (C)\n",
        "    mu: (C x d)\n",
        "    sigma: (C x d x d)\n",
        "    \"\"\"\n",
        "    N = X.shape[0] # number of objects\n",
        "    C = gamma.shape[1] # number of clusters\n",
        "    d = X.shape[1] # dimension of each object\n",
        "    \n",
        "    # Initialize parameters \n",
        "    mu = np.zeros((C, d))\n",
        "    pi = np.sum(gamma, axis = 0) / (1.0 * N)\n",
        "    sigma = np.zeros((C, d, d))\n",
        "\n",
        "    # Iterate through each latent dist\n",
        "    for i in range(C):\n",
        "      mu[i, :] = np.sum(X * gamma[:, i][:, np.newaxis], axis = 0) / (pi[i] * N)\n",
        "      diff_i = X - mu[i, :][np.newaxis, :] #  change dimension to (N x d)\n",
        "      sigma[i, :, :] = np.dot((diff_i * gamma[:, i][:, np.newaxis]).T, diff_i) / (pi[i] * N)\n",
        "    \n",
        "\n",
        "    return pi, mu, sigma"
      ],
      "execution_count": null,
      "outputs": []
    },
    {
      "metadata": {
        "id": "6i5cv65SBED-",
        "colab": {
          "base_uri": "https://localhost:8080/"
        },
        "outputId": "b7b593c9-7905-4a50-ee18-9cb1d176f282"
      },
      "cell_type": "code",
      "source": [
        "gamma = E_step(X, pi0, mu0, sigma0)\n",
        "pi, mu, sigma = M_step(X, gamma)\n",
        "grader.submit_m_step(pi, mu, sigma)"
      ],
      "execution_count": null,
      "outputs": [
        {
          "output_type": "stream",
          "name": "stdout",
          "text": [
            "Current answer for task Task 2 (M-step: mu) is: 2.8993918820503835\n",
            "Current answer for task Task 2 (M-step: sigma) is: 5.9771052168975265\n",
            "Current answer for task Task 2 (M-step: pi) is: 0.5507624459218776\n"
          ]
        }
      ]
    },
    {
      "metadata": {
        "id": "svyzjt7XBEEC"
      },
      "cell_type": "markdown",
      "source": [
        "### Loss function"
      ]
    },
    {
      "metadata": {
        "id": "qexOXBLUBEED"
      },
      "cell_type": "markdown",
      "source": [
        "Finally, we need some function to track convergence. We will use variational lower bound $\\mathcal{L}$ for this purpose. We will stop our EM iterations when $\\mathcal{L}$ will saturate. Usually, you will need only about 10-20 iterations to converge. It is also useful to check that this function never decreases during training. If it does, you have a bug in your code.\n",
        "\n",
        "<b>Task 3:</b> Implement a function that will compute $\\mathcal{L}$ using template below.\n",
        "\n",
        "$$\\mathcal{L} = \\sum_{i=1}^{N} \\sum_{c=1}^{C} q(t_i =c) (\\log \\pi_c + \\log f_{\\!\\mathcal{N}}(x_i \\mid \\mu_c, \\Sigma_c)) - \\sum_{i=1}^{N} \\sum_{c=1}^{K} q(t_i =c) \\log q(t_i =c)$$"
      ]
    },
    {
      "metadata": {
        "id": "B5tKCZe0BEEE"
      },
      "cell_type": "code",
      "source": [
        "def compute_vlb(X, pi, mu, sigma, gamma):\n",
        "    \"\"\"\n",
        "    Each input is numpy array:\n",
        "    X: (N x d), data points\n",
        "    gamma: (N x C), distribution q(T)  \n",
        "    pi: (C)\n",
        "    mu: (C x d)\n",
        "    sigma: (C x d x d)\n",
        "    \n",
        "    Returns value of variational lower bound\n",
        "    \"\"\"\n",
        "    N = X.shape[0] # number of objects\n",
        "    C = gamma.shape[1] # number of clusters\n",
        "    d = X.shape[1] # dimension of each object\n",
        "\n",
        "    # Initiate loss value \n",
        "    loss = 0.0\n",
        "    for i in range(C):\n",
        "      pi_i = pi[i]\n",
        "      mu_i = mu[i]\n",
        "      sigma_i = sigma[i]\n",
        "      det_sigma_i = np.linalg.det(sigma_i)\n",
        "      const_i = np.log(pi_i/np.sqrt((2*np.pi)**d)*det_sigma_i)\n",
        "\n",
        "      for n in range(N):\n",
        "        loss += (gamma[n,i] + 1e-20) * (np.log(pi_i) - 0.5 * np.log(det_sigma_i)\n",
        "        - 0.5 * d * np.log(2 * np.pi))\n",
        "        xn = X[n]\n",
        "        xn = X[n] - mu_i\n",
        "        yn = np.linalg.solve(sigma_i, xn)\n",
        "        loss -= (gamma[n,i]+1e-20) * 0.5 * np.dot(xn[np.newaxis,:], yn[:, np.newaxis])\n",
        "        loss -= (gamma[n,i] + 1e-20) * np.log((gamma[n,i] + 1e-20)) \n",
        "\n",
        "\n",
        "    return loss"
      ],
      "execution_count": null,
      "outputs": []
    },
    {
      "metadata": {
        "id": "xNva3XRTBEEI",
        "colab": {
          "base_uri": "https://localhost:8080/"
        },
        "outputId": "e792bdcc-247e-4632-8d33-fd20af15b9f3"
      },
      "cell_type": "code",
      "source": [
        "pi, mu, sigma = pi0, mu0, sigma0\n",
        "gamma = E_step(X, pi, mu, sigma)\n",
        "pi, mu, sigma = M_step(X, gamma)\n",
        "loss = compute_vlb(X, pi, mu, sigma, gamma)\n",
        "grader.submit_VLB(loss)"
      ],
      "execution_count": null,
      "outputs": [
        {
          "output_type": "stream",
          "name": "stdout",
          "text": [
            "Current answer for task Task 3 (VLB) is: -1213.9734643060222\n"
          ]
        }
      ]
    },
    {
      "metadata": {
        "id": "I5p8XC-eBEEM"
      },
      "cell_type": "markdown",
      "source": [
        "### Bringing it all together"
      ]
    },
    {
      "metadata": {
        "id": "cQsdsNVCBEEU"
      },
      "cell_type": "markdown",
      "source": [
        "Now that we have E step, M step and VLB, we can implement the training loop. We will initialize values of $\\pi$, $\\mu$ and $\\Sigma$ to some random numbers, train until $\\mathcal{L}$ stops changing, and return the resulting points. We also know that the EM algorithm converges to local optima. To find a better local optima, we will restart the algorithm multiple times from different (random) starting positions. Each training trial should stop either when maximum number of iterations is reached or when relative improvement is smaller than given tolerance ($|\\frac{\\mathcal{L}_i-\\mathcal{L}_{i-1}}{\\mathcal{L}_{i-1}}| \\le \\text{rtol}$).\n",
        "\n",
        "Remember, that initial (random) values of $\\pi$ that you generate must be non-negative and sum up to 1. Also, $\\Sigma$ matrices must be symmetric and positive semi-definite. If you don't know how to generate those matrices, you can use $\\Sigma=I$ as initialization.\n",
        "\n",
        "You will also sometimes get numerical errors because of component collapsing. The easiest way to deal with this problems is to restart the procedure.\n",
        "\n",
        "<b>Task 4:</b> Implement training procedure"
      ]
    },
    {
      "metadata": {
        "id": "Q1AAcyl0BEEW"
      },
      "cell_type": "code",
      "source": [
        "import math\n",
        "def train_EM(X, C, rtol=1e-3, max_iter=100, restarts=10):\n",
        "    '''\n",
        "    Starts with random initialization *restarts* times\n",
        "    Runs optimization until saturation with *rtol* reached\n",
        "    or *max_iter* iterations were made.\n",
        "    \n",
        "    X: (N, d), data points\n",
        "    C: int, number of clusters\n",
        "    '''\n",
        "    N = X.shape[0] # number of objects\n",
        "    d = X.shape[1] # dimension of each object\n",
        "    best_loss = -float(\"inf\")\n",
        "    best_pi = None\n",
        "    best_mu = None\n",
        "    best_sigma = None\n",
        "\n",
        "    for _ in range(restarts):\n",
        "        try:\n",
        "          pi = 1/float(C) * np.ones(C)\n",
        "          mu = np.random.rand(C, d)\n",
        "          sigma = np.zeros((C, d, d))\n",
        "          sigma[...] = np.identity(d)\n",
        "          last_loss = None\n",
        "\n",
        "          for iter in range(max_iter):\n",
        "            gamma = E_step(X, pi, mu, sigma)\n",
        "            pi, mu, sigma = M_step(X, gamma)\n",
        "            loss = compute_vlb(X, pi, mu, sigma, gamma)\n",
        "            if not math.isnan(loss) and loss > best_loss:\n",
        "              best_loss = loss\n",
        "              best_mu = mu\n",
        "              best_pi = pi\n",
        "              best_sigma = sigma\n",
        "\n",
        "            if last_loss is not None:\n",
        "              diff = np.abs(loss - last_loss)\n",
        "              if diff < rtol:\n",
        "                break\n",
        "            last_loss = loss\n",
        "            \n",
        "        except np.linalg.LinAlgError:\n",
        "          print(\"Singular matrix: components collapsed\")\n",
        "          pass\n",
        "\n",
        "    return best_loss, best_pi, best_mu, best_sigma"
      ],
      "execution_count": null,
      "outputs": []
    },
    {
      "metadata": {
        "id": "0f8A5sbmBEEZ",
        "colab": {
          "base_uri": "https://localhost:8080/"
        },
        "outputId": "23928c2f-e2b0-4d01-9067-3cbf47ef37d6"
      },
      "cell_type": "code",
      "source": [
        "best_loss, best_pi, best_mu, best_sigma = train_EM(X, 3)\n",
        "grader.submit_EM(best_loss)"
      ],
      "execution_count": null,
      "outputs": [
        {
          "output_type": "stream",
          "name": "stdout",
          "text": [
            "Current answer for task Task 4 (EM) is: -1063.811357815496\n"
          ]
        },
        {
          "output_type": "stream",
          "name": "stderr",
          "text": [
            "/content/w2_grader.py:97: UserWarning: The loss should be a scalar (loss from the best restart), not an array.\n",
            "  'The loss should be a scalar '\n"
          ]
        }
      ]
    },
    {
      "metadata": {
        "id": "tYd6tPHKBEEd"
      },
      "cell_type": "markdown",
      "source": [
        "If you implemented all the steps correctly, your algorithm should converge in about 20 iterations. Let's plot the clusters to see it. We will assign a cluster label as the most probable cluster index. This can be found using a matrix $\\gamma$ computed on last E-step. "
      ]
    },
    {
      "metadata": {
        "id": "mK_M6QLnBEEe",
        "colab": {
          "base_uri": "https://localhost:8080/",
          "height": 265
        },
        "outputId": "fcac142a-683f-4d11-e8c7-7d9645b1c517"
      },
      "cell_type": "code",
      "source": [
        "gamma = E_step(X, best_pi, best_mu, best_sigma)\n",
        "labels = gamma.argmax(axis=1)\n",
        "colors = np.array([(31, 119, 180), (255, 127, 14), (44, 160, 44)]) / 255.\n",
        "plt.scatter(X[:, 0], X[:, 1], c=colors[labels], s=30)\n",
        "plt.axis('equal')\n",
        "plt.show()"
      ],
      "execution_count": null,
      "outputs": [
        {
          "output_type": "display_data",
          "data": {
            "text/plain": [
              "<Figure size 432x288 with 1 Axes>"
            ],
            "image/png": "[encoded data removed]"
          },
          "metadata": {
            "needs_background": "light"
          }
        }
      ]
    }
  ]
}