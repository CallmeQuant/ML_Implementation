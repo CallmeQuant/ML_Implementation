{
  "nbformat": 4,
  "nbformat_minor": 0,
  "metadata": {
    "colab": {
      "name": "Support Vector Machine.ipynb",
      "provenance": [],
      "collapsed_sections": []
    },
    "kernelspec": {
      "name": "python3",
      "display_name": "Python 3"
    },
    "language_info": {
      "name": "python"
    }
  },
  "cells": [
    {
      "cell_type": "code",
      "metadata": {
        "id": "kvJ87_7ARCkP"
      },
      "source": [
        "import numpy as np\n",
        "import matplotlib.pyplot as plt\n",
        "from scipy.spatial.distance import cdist\n",
        "from sklearn.datasets import make_blobs\n",
        "from cvxopt import matrix, solvers"
      ],
      "execution_count": null,
      "outputs": []
    },
    {
      "cell_type": "code",
      "metadata": {
        "id": "-P0PEoJRUR5B"
      },
      "source": [
        "def create_synthetic_data():\n",
        "  X, y = make_blobs(n_samples = 40, centers=[(0, 3), (3, 0)], cluster_std=[0.5, 0.5], random_state=6)\n",
        "  idx_cluster_0 = np.where(y == 0)\n",
        "  y[idx_cluster_0] = -1\n",
        "  X = X.T\n",
        "  return X, y "
      ],
      "execution_count": null,
      "outputs": []
    },
    {
      "cell_type": "code",
      "metadata": {
        "id": "4A8Y30ZSUTDb"
      },
      "source": [
        "X,y = create_synthetic_data()"
      ],
      "execution_count": null,
      "outputs": []
    },
    {
      "cell_type": "code",
      "metadata": {
        "id": "kG4HRU5_SAqN"
      },
      "source": [
        "class SVM:\n",
        "  def __init__(self, X, y):\n",
        "    self.X = X\n",
        "    self.y = y\n",
        "    \n",
        "\n",
        "  def fit(self):\n",
        "    self.V = np.zeros((self.X.shape[0], self.X.shape[1]))\n",
        "    for i in range(self.X.shape[1]):\n",
        "      self.V[:,i] = self.X[:,i] * y[i]\n",
        "    K =self.V.T.dot(self.V)\n",
        "    P = matrix(K, tc=\"d\")\n",
        "    q = matrix(-np.ones((K.shape[0], 1)), tc=\"d\")\n",
        "    G = matrix(-np.eye((K.shape[0])), tc=\"d\")\n",
        "    h = matrix(np.zeros((K.shape[0],1)),tc=\"d\")\n",
        "    A = matrix(np.array([self.y]),tc=\"d\")\n",
        "    b = matrix(np.zeros((1, 1)), tc=\"d\") \n",
        "    solvers.options['show_progress'] = False\n",
        "    sol = solvers.qp(P, q, G, h, A, b)\n",
        "    self.lambda_ = np.array(sol['x'])\n",
        "    # derive weight and bias \n",
        "    epsilon = 1e-6\n",
        "    S = np.where(self.lambda_ > epsilon)[0]\n",
        "    V_S = self.V[:,S]\n",
        "    lambda_S = self.lambda_[S]\n",
        "    y_S = np.array([self.y])[:,S]\n",
        "    self.weight = V_S.dot(lambda_S)\n",
        "    # print(self.weight.shape)\n",
        "    self.bias = np.mean(np.array([y_S]).T - self.weight.T.dot(X[:,S]))\n",
        "    return self.lambda_, self.weight, self.bias\n",
        "\n",
        "\n",
        "  def predict(self, input):\n",
        "    input = np.array([input])\n",
        "    h = self.bias + input.dot(self.weight)\n",
        "    return np.sign(h).squeeze()"
      ],
      "execution_count": null,
      "outputs": []
    },
    {
      "cell_type": "code",
      "metadata": {
        "id": "hhLHS3PHe7J2"
      },
      "source": [
        "SVM_v1 = SVM(X,y)\n",
        "coef = SVM_v1.fit()\n",
        "coef"
      ],
      "execution_count": null,
      "outputs": []
    },
    {
      "cell_type": "code",
      "metadata": {
        "colab": {
          "base_uri": "https://localhost:8080/"
        },
        "id": "p29vrR9dyESh",
        "outputId": "2c6dbffb-faf9-4fc5-a198-764411129fd1"
      },
      "source": [
        "SVM_v1.predict([-5,1])"
      ],
      "execution_count": null,
      "outputs": [
        {
          "output_type": "execute_result",
          "data": {
            "text/plain": [
              "array(-1.)"
            ]
          },
          "metadata": {},
          "execution_count": 6
        }
      ]
    }
  ]
}